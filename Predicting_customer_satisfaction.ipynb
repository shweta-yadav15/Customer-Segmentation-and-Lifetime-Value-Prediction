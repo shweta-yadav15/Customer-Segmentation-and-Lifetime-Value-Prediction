{
  "nbformat": 4,
  "nbformat_minor": 0,
  "metadata": {
    "colab": {
      "name": "Predicting_customer_satisfaction.ipynb",
      "provenance": [],
      "authorship_tag": "ABX9TyPi5DFWSfNw3H2DkI/VsK3B",
      "include_colab_link": true
    },
    "kernelspec": {
      "name": "python3",
      "display_name": "Python 3"
    }
  },
  "cells": [
    {
      "cell_type": "markdown",
      "metadata": {
        "id": "view-in-github",
        "colab_type": "text"
      },
      "source": [
        "<a href=\"https://colab.research.google.com/github/shwets1503/Sales_Prediction/blob/master/Predicting_customer_satisfaction.ipynb\" target=\"_parent\"><img src=\"https://colab.research.google.com/assets/colab-badge.svg\" alt=\"Open In Colab\"/></a>"
      ]
    },
    {
      "cell_type": "markdown",
      "metadata": {
        "id": "NpixJ0uk4z2U",
        "colab_type": "text"
      },
      "source": [
        "# Predicting Customer Satisfaction - Ecommerce Data\n"
      ]
    },
    {
      "cell_type": "markdown",
      "metadata": {
        "id": "semiFoxs492C",
        "colab_type": "text"
      },
      "source": [
        "Olist has released a dataset of 100k orders made between 2016 and 2018. This is the model to predict what's the score a customer will give for an order."
      ]
    },
    {
      "cell_type": "markdown",
      "metadata": {
        "id": "GLKevz8j5XRY",
        "colab_type": "text"
      },
      "source": [
        "# 1. Business Understanding\n",
        "Let's say your manager asked you:\n",
        "\n",
        "\"What is the probable score that we getting from customers?\"\n",
        "\n",
        "Our problem is to find a way to estimate, based on data about the product and order, what will be the customer review score.\n",
        "\n",
        "### The hypothesis\n",
        "Our main hypothesis is that the product and how the order was fulfilled might influence the customer review score. Keeping in mind that each feature we create is a new hypothesis we are testing.\n",
        "\n",
        "### Designing an Experiment\n",
        "To answer that question we must collect data from each order up to delivery phase. With that, we should implement a model that estimates what will be the score given by the customer at the review phase.\n",
        "\n",
        "  Purchase --> Transport --> Delivery --> &emsp;Review<br>\n",
        " &emsp;&emsp;&emsp;[ Extract Features ]&emsp;&emsp;&emsp;&emsp;&emsp;[ Make Prediction ]\n"
      ]
    },
    {
      "cell_type": "code",
      "metadata": {
        "id": "nsCqAdpDxI3L",
        "colab_type": "code",
        "colab": {
          "base_uri": "https://localhost:8080/",
          "height": 124
        },
        "outputId": "b83cdf49-0e8c-4491-9570-4a698ba2ab9a"
      },
      "source": [
        "from google.colab import drive\n",
        "drive.mount('/content/drive')"
      ],
      "execution_count": 1,
      "outputs": [
        {
          "output_type": "stream",
          "text": [
            "Go to this URL in a browser: https://accounts.google.com/o/oauth2/auth?client_id=947318989803-6bn6qk8qdgf4n4g3pfee6491hc0brc4i.apps.googleusercontent.com&redirect_uri=urn%3aietf%3awg%3aoauth%3a2.0%3aoob&scope=email%20https%3a%2f%2fwww.googleapis.com%2fauth%2fdocs.test%20https%3a%2f%2fwww.googleapis.com%2fauth%2fdrive%20https%3a%2f%2fwww.googleapis.com%2fauth%2fdrive.photos.readonly%20https%3a%2f%2fwww.googleapis.com%2fauth%2fpeopleapi.readonly&response_type=code\n",
            "\n",
            "Enter your authorization code:\n",
            "··········\n",
            "Mounted at /content/drive\n"
          ],
          "name": "stdout"
        }
      ]
    },
    {
      "cell_type": "markdown",
      "metadata": {
        "id": "MFu_dnoyV_Ho",
        "colab_type": "text"
      },
      "source": [
        "### Importing Libraries\n"
      ]
    },
    {
      "cell_type": "code",
      "metadata": {
        "id": "udMYorNzxQvg",
        "colab_type": "code",
        "colab": {}
      },
      "source": [
        "import numpy as np \n",
        "import pandas as pd \n",
        "\n",
        "# Visualization Libraries\n",
        "import seaborn as sns\n",
        "import matplotlib\n",
        "import matplotlib.pyplot as plt\n",
        "from matplotlib.gridspec import GridSpec\n",
        "\n",
        "from plotly.offline import init_notebook_mode, iplot\n",
        "from plotly import tools\n",
        "import plotly.express as px\n",
        "import plotly.graph_objects as go\n",
        "import plotly.figure_factory as ff\n",
        "from plotly.colors import n_colors\n",
        "from plotly.subplots import make_subplots\n",
        "\n",
        "# DateTime Libraries\n",
        "import datetime as dt\n",
        "# To consider Brazilian calendar and holidays\n",
        "!pip install workalendar --quiet\n",
        "from workalendar.america import Brazil\n",
        "\n",
        "# For model building and testing\n",
        "from sklearn.model_selection import StratifiedShuffleSplit\n",
        "from sklearn.pipeline import Pipeline\n",
        "from sklearn.impute import SimpleImputer\n",
        "from sklearn.preprocessing import StandardScaler, OneHotEncoder\n",
        "from sklearn.compose import ColumnTransformer\n",
        "from sklearn.linear_model import LinearRegression\n",
        "from sklearn.metrics import mean_squared_error\n",
        "\n",
        "from sklearn.metrics import accuracy_score, log_loss\n",
        "from sklearn.neighbors import KNeighborsClassifier\n",
        "from sklearn.tree import DecisionTreeClassifier\n",
        "from sklearn.ensemble import RandomForestClassifier, AdaBoostClassifier, GradientBoostingClassifier\n",
        "from sklearn.discriminant_analysis import LinearDiscriminantAnalysis\n",
        "from sklearn.discriminant_analysis import QuadraticDiscriminantAnalysis"
      ],
      "execution_count": 22,
      "outputs": []
    },
    {
      "cell_type": "markdown",
      "metadata": {
        "id": "7LFSnFEJWvdc",
        "colab_type": "text"
      },
      "source": [
        "# 2. Data Understanding"
      ]
    },
    {
      "cell_type": "markdown",
      "metadata": {
        "id": "EXkqIieEWFTu",
        "colab_type": "text"
      },
      "source": [
        "### Importing Datasets"
      ]
    },
    {
      "cell_type": "code",
      "metadata": {
        "id": "1dWEzoC5xuDu",
        "colab_type": "code",
        "colab": {}
      },
      "source": [
        "orders_df = pd.read_csv('../content/drive/My Drive/sales_data2/olist_orders_dataset.csv', engine='python')\n",
        "order_items = pd.read_csv('../content/drive/My Drive/sales_data2/olist_order_items_dataset.csv', engine='python')\n",
        "order_reviews = pd.read_csv('../content/drive/My Drive/sales_data2/olist_order_reviews_dataset.csv', engine='python')\n",
        "products = pd.read_csv('../content/drive/My Drive/sales_data3/olist_products_dataset.csv', engine='python')\n",
        "product_category = pd.read_csv('../content/drive/My Drive/sales_data3/product_category_name_translation.csv', engine='python')\n",
        "customer = pd.read_csv('../content/drive/My Drive/sales_data/customers_dataset.csv', engine='python')\n",
        "payments = pd.read_csv('../content/drive/My Drive/sales_data2/olist_order_payments_dataset.csv', engine='python')"
      ],
      "execution_count": 5,
      "outputs": []
    },
    {
      "cell_type": "code",
      "metadata": {
        "id": "C56K1VvQy-qM",
        "colab_type": "code",
        "colab": {}
      },
      "source": [
        "# Merging categories data with english translations and dropping that column \n",
        "categories = pd.merge(products, product_category,how ='left', left_on ='product_category_name', right_index = True, suffixes=(None, '_eng')).drop('product_category_name', axis=1)"
      ],
      "execution_count": 6,
      "outputs": []
    },
    {
      "cell_type": "code",
      "metadata": {
        "id": "xAVwIVu1xuMI",
        "colab_type": "code",
        "colab": {}
      },
      "source": [
        "# Merging required datasets\n",
        "orders = pd.merge(order_reviews, order_items, how='left', on='order_id')\n",
        "orders = pd.merge(orders, orders_df, how='left', on='order_id')\n",
        "orders = pd.merge(orders, customer, how='left', on='customer_id')\n",
        "orders = pd.merge(orders, categories, how='left', on='product_id')"
      ],
      "execution_count": 7,
      "outputs": []
    },
    {
      "cell_type": "code",
      "metadata": {
        "id": "avQTXnl-BCeH",
        "colab_type": "code",
        "colab": {
          "base_uri": "https://localhost:8080/",
          "height": 257
        },
        "outputId": "e6f46f45-8874-4129-8cd3-2cd11fb2ad00"
      },
      "source": [
        "# Dataset after Merging\n",
        "orders.head()"
      ],
      "execution_count": 8,
      "outputs": [
        {
          "output_type": "execute_result",
          "data": {
            "text/html": [
              "<div>\n",
              "<style scoped>\n",
              "    .dataframe tbody tr th:only-of-type {\n",
              "        vertical-align: middle;\n",
              "    }\n",
              "\n",
              "    .dataframe tbody tr th {\n",
              "        vertical-align: top;\n",
              "    }\n",
              "\n",
              "    .dataframe thead th {\n",
              "        text-align: right;\n",
              "    }\n",
              "</style>\n",
              "<table border=\"1\" class=\"dataframe\">\n",
              "  <thead>\n",
              "    <tr style=\"text-align: right;\">\n",
              "      <th></th>\n",
              "      <th>review_id</th>\n",
              "      <th>order_id</th>\n",
              "      <th>review_score</th>\n",
              "      <th>review_comment_title</th>\n",
              "      <th>review_comment_message</th>\n",
              "      <th>review_creation_date</th>\n",
              "      <th>review_answer_timestamp</th>\n",
              "      <th>order_item_id</th>\n",
              "      <th>product_id</th>\n",
              "      <th>seller_id</th>\n",
              "      <th>shipping_limit_date</th>\n",
              "      <th>price</th>\n",
              "      <th>freight_value</th>\n",
              "      <th>customer_id</th>\n",
              "      <th>order_status</th>\n",
              "      <th>order_purchase_timestamp</th>\n",
              "      <th>order_approved_at</th>\n",
              "      <th>order_delivered_carrier_date</th>\n",
              "      <th>order_delivered_customer_date</th>\n",
              "      <th>order_estimated_delivery_date</th>\n",
              "      <th>customer_unique_id</th>\n",
              "      <th>customer_zip_code_prefix</th>\n",
              "      <th>customer_city</th>\n",
              "      <th>customer_state</th>\n",
              "      <th>product_name_lenght</th>\n",
              "      <th>product_description_lenght</th>\n",
              "      <th>product_photos_qty</th>\n",
              "      <th>product_weight_g</th>\n",
              "      <th>product_length_cm</th>\n",
              "      <th>product_height_cm</th>\n",
              "      <th>product_width_cm</th>\n",
              "      <th>product_category_name_eng</th>\n",
              "    </tr>\n",
              "  </thead>\n",
              "  <tbody>\n",
              "    <tr>\n",
              "      <th>0</th>\n",
              "      <td>7bc2406110b926393aa56f80a40eba40</td>\n",
              "      <td>73fc7af87114b39712e6da79b0a377eb</td>\n",
              "      <td>4</td>\n",
              "      <td>NaN</td>\n",
              "      <td>NaN</td>\n",
              "      <td>2018-01-18 00:00:00</td>\n",
              "      <td>2018-01-18 21:46:59</td>\n",
              "      <td>1.0</td>\n",
              "      <td>fd25ab760bfbba13c198fa3b4f1a0cd3</td>\n",
              "      <td>6d803cb79cc31c41c4c789a75933b3c7</td>\n",
              "      <td>2018-01-18 15:47:59</td>\n",
              "      <td>185.00</td>\n",
              "      <td>13.63</td>\n",
              "      <td>41dcb106f807e993532d446263290104</td>\n",
              "      <td>delivered</td>\n",
              "      <td>2018-01-11 15:30:49</td>\n",
              "      <td>2018-01-11 15:47:59</td>\n",
              "      <td>2018-01-12 21:57:22</td>\n",
              "      <td>2018-01-17 18:42:41</td>\n",
              "      <td>2018-02-02 00:00:00</td>\n",
              "      <td>68a5590b9926689be4e10f4ae2db21a8</td>\n",
              "      <td>6030</td>\n",
              "      <td>osasco</td>\n",
              "      <td>SP</td>\n",
              "      <td>42.0</td>\n",
              "      <td>858.0</td>\n",
              "      <td>1.0</td>\n",
              "      <td>1300.0</td>\n",
              "      <td>30.0</td>\n",
              "      <td>30.0</td>\n",
              "      <td>35.0</td>\n",
              "      <td>sports_leisure</td>\n",
              "    </tr>\n",
              "    <tr>\n",
              "      <th>1</th>\n",
              "      <td>7bc2406110b926393aa56f80a40eba40</td>\n",
              "      <td>73fc7af87114b39712e6da79b0a377eb</td>\n",
              "      <td>4</td>\n",
              "      <td>NaN</td>\n",
              "      <td>NaN</td>\n",
              "      <td>2018-01-18 00:00:00</td>\n",
              "      <td>2018-01-18 21:46:59</td>\n",
              "      <td>2.0</td>\n",
              "      <td>fd25ab760bfbba13c198fa3b4f1a0cd3</td>\n",
              "      <td>6d803cb79cc31c41c4c789a75933b3c7</td>\n",
              "      <td>2018-01-18 15:47:59</td>\n",
              "      <td>185.00</td>\n",
              "      <td>13.63</td>\n",
              "      <td>41dcb106f807e993532d446263290104</td>\n",
              "      <td>delivered</td>\n",
              "      <td>2018-01-11 15:30:49</td>\n",
              "      <td>2018-01-11 15:47:59</td>\n",
              "      <td>2018-01-12 21:57:22</td>\n",
              "      <td>2018-01-17 18:42:41</td>\n",
              "      <td>2018-02-02 00:00:00</td>\n",
              "      <td>68a5590b9926689be4e10f4ae2db21a8</td>\n",
              "      <td>6030</td>\n",
              "      <td>osasco</td>\n",
              "      <td>SP</td>\n",
              "      <td>42.0</td>\n",
              "      <td>858.0</td>\n",
              "      <td>1.0</td>\n",
              "      <td>1300.0</td>\n",
              "      <td>30.0</td>\n",
              "      <td>30.0</td>\n",
              "      <td>35.0</td>\n",
              "      <td>sports_leisure</td>\n",
              "    </tr>\n",
              "    <tr>\n",
              "      <th>2</th>\n",
              "      <td>80e641a11e56f04c1ad469d5645fdfde</td>\n",
              "      <td>a548910a1c6147796b98fdf73dbeba33</td>\n",
              "      <td>5</td>\n",
              "      <td>NaN</td>\n",
              "      <td>NaN</td>\n",
              "      <td>2018-03-10 00:00:00</td>\n",
              "      <td>2018-03-11 03:05:13</td>\n",
              "      <td>1.0</td>\n",
              "      <td>be0dbdc3d67d55727a65d4cd696ca73c</td>\n",
              "      <td>8e6d7754bc7e0f22c96d255ebda59eba</td>\n",
              "      <td>2018-03-06 12:48:39</td>\n",
              "      <td>79.79</td>\n",
              "      <td>8.30</td>\n",
              "      <td>8a2e7ef9053dea531e4dc76bd6d853e6</td>\n",
              "      <td>delivered</td>\n",
              "      <td>2018-02-28 12:25:19</td>\n",
              "      <td>2018-02-28 12:48:39</td>\n",
              "      <td>2018-03-02 19:08:15</td>\n",
              "      <td>2018-03-09 23:17:20</td>\n",
              "      <td>2018-03-14 00:00:00</td>\n",
              "      <td>64190b91b656ab8f37eb89b93dc84584</td>\n",
              "      <td>13380</td>\n",
              "      <td>nova odessa</td>\n",
              "      <td>SP</td>\n",
              "      <td>47.0</td>\n",
              "      <td>493.0</td>\n",
              "      <td>1.0</td>\n",
              "      <td>245.0</td>\n",
              "      <td>19.0</td>\n",
              "      <td>14.0</td>\n",
              "      <td>14.0</td>\n",
              "      <td>computers_accessories</td>\n",
              "    </tr>\n",
              "    <tr>\n",
              "      <th>3</th>\n",
              "      <td>228ce5500dc1d8e020d8d1322874b6f0</td>\n",
              "      <td>f9e4b658b201a9f2ecdecbb34bed034b</td>\n",
              "      <td>5</td>\n",
              "      <td>NaN</td>\n",
              "      <td>NaN</td>\n",
              "      <td>2018-02-17 00:00:00</td>\n",
              "      <td>2018-02-18 14:36:24</td>\n",
              "      <td>1.0</td>\n",
              "      <td>d1c427060a0f73f6b889a5c7c61f2ac4</td>\n",
              "      <td>a1043bafd471dff536d0c462352beb48</td>\n",
              "      <td>2018-02-08 10:31:15</td>\n",
              "      <td>149.00</td>\n",
              "      <td>45.12</td>\n",
              "      <td>e226dfed6544df5b7b87a48208690feb</td>\n",
              "      <td>delivered</td>\n",
              "      <td>2018-02-03 09:56:22</td>\n",
              "      <td>2018-02-03 10:33:41</td>\n",
              "      <td>2018-02-06 16:18:28</td>\n",
              "      <td>2018-02-16 17:28:48</td>\n",
              "      <td>2018-03-09 00:00:00</td>\n",
              "      <td>1d47144362c14e94ccdd213e8ec277d5</td>\n",
              "      <td>44571</td>\n",
              "      <td>santo antonio de jesus</td>\n",
              "      <td>BA</td>\n",
              "      <td>59.0</td>\n",
              "      <td>1893.0</td>\n",
              "      <td>1.0</td>\n",
              "      <td>6550.0</td>\n",
              "      <td>20.0</td>\n",
              "      <td>20.0</td>\n",
              "      <td>20.0</td>\n",
              "      <td>computers_accessories</td>\n",
              "    </tr>\n",
              "    <tr>\n",
              "      <th>4</th>\n",
              "      <td>e64fb393e7b32834bb789ff8bb30750e</td>\n",
              "      <td>658677c97b385a9be170737859d3511b</td>\n",
              "      <td>5</td>\n",
              "      <td>NaN</td>\n",
              "      <td>Recebi bem antes do prazo estipulado.</td>\n",
              "      <td>2017-04-21 00:00:00</td>\n",
              "      <td>2017-04-21 22:02:06</td>\n",
              "      <td>1.0</td>\n",
              "      <td>52c80cedd4e90108bf4fa6a206ef6b03</td>\n",
              "      <td>a1043bafd471dff536d0c462352beb48</td>\n",
              "      <td>2017-04-13 17:55:19</td>\n",
              "      <td>179.99</td>\n",
              "      <td>42.85</td>\n",
              "      <td>de6dff97e5f1ba84a3cd9a3bc97df5f6</td>\n",
              "      <td>delivered</td>\n",
              "      <td>2017-04-09 17:41:13</td>\n",
              "      <td>2017-04-09 17:55:19</td>\n",
              "      <td>2017-04-10 14:24:47</td>\n",
              "      <td>2017-04-20 09:08:35</td>\n",
              "      <td>2017-05-10 00:00:00</td>\n",
              "      <td>c8cf6cb6b838dc7a33ed199b825e8616</td>\n",
              "      <td>88735</td>\n",
              "      <td>gravatal</td>\n",
              "      <td>SC</td>\n",
              "      <td>33.0</td>\n",
              "      <td>2188.0</td>\n",
              "      <td>2.0</td>\n",
              "      <td>7650.0</td>\n",
              "      <td>20.0</td>\n",
              "      <td>20.0</td>\n",
              "      <td>20.0</td>\n",
              "      <td>garden_tools</td>\n",
              "    </tr>\n",
              "  </tbody>\n",
              "</table>\n",
              "</div>"
            ],
            "text/plain": [
              "                          review_id  ... product_category_name_eng\n",
              "0  7bc2406110b926393aa56f80a40eba40  ...            sports_leisure\n",
              "1  7bc2406110b926393aa56f80a40eba40  ...            sports_leisure\n",
              "2  80e641a11e56f04c1ad469d5645fdfde  ...     computers_accessories\n",
              "3  228ce5500dc1d8e020d8d1322874b6f0  ...     computers_accessories\n",
              "4  e64fb393e7b32834bb789ff8bb30750e  ...              garden_tools\n",
              "\n",
              "[5 rows x 32 columns]"
            ]
          },
          "metadata": {
            "tags": []
          },
          "execution_count": 8
        }
      ]
    },
    {
      "cell_type": "markdown",
      "metadata": {
        "id": "lihkSpd2DMUL",
        "colab_type": "text"
      },
      "source": [
        "Although some items seem duplicated their order_item_id indicates multiple orders of same item, so not dropping them."
      ]
    },
    {
      "cell_type": "code",
      "metadata": {
        "id": "2QihnOy_CePl",
        "colab_type": "code",
        "colab": {
          "base_uri": "https://localhost:8080/",
          "height": 35
        },
        "outputId": "34027302-54e0-4c12-b58e-6da6336bcea9"
      },
      "source": [
        "# Shape of the dataset after merging\n",
        "orders.shape"
      ],
      "execution_count": 9,
      "outputs": [
        {
          "output_type": "execute_result",
          "data": {
            "text/plain": [
              "(114100, 32)"
            ]
          },
          "metadata": {
            "tags": []
          },
          "execution_count": 9
        }
      ]
    },
    {
      "cell_type": "markdown",
      "metadata": {
        "id": "iRsQ8clt9pFU",
        "colab_type": "text"
      },
      "source": [
        "# 3. Data Cleaning"
      ]
    },
    {
      "cell_type": "code",
      "metadata": {
        "id": "9wuZF13rxuQV",
        "colab_type": "code",
        "colab": {}
      },
      "source": [
        "# Converting necessary columns to datetime format\n",
        "orders['order_purchase_timestamp'] = pd.to_datetime(orders.order_purchase_timestamp).dt.dayofweek\n",
        "orders['order_approved_at'] = pd.to_datetime(orders.order_approved_at).dt.date\n",
        "orders['order_estimated_delivery_date'] = pd.to_datetime(orders.order_estimated_delivery_date).dt.date\n",
        "orders['order_delivered_customer_date'] = pd.to_datetime(orders.order_delivered_customer_date) .dt.date "
      ],
      "execution_count": 10,
      "outputs": []
    },
    {
      "cell_type": "code",
      "metadata": {
        "id": "f5AOvmTgxuJ6",
        "colab_type": "code",
        "colab": {}
      },
      "source": [
        "# Filtering useful columns\n",
        "orders = orders[['order_status', 'price', 'order_purchase_timestamp', \n",
        "                 'order_approved_at','order_estimated_delivery_date',\n",
        "                 'order_delivered_customer_date',\n",
        "                 'freight_value', 'order_item_id', \n",
        "                'customer_state', \n",
        "                 'product_category_name_eng', 'product_name_lenght', 'product_description_lenght', \n",
        "                 'product_photos_qty', 'review_score']]"
      ],
      "execution_count": 11,
      "outputs": []
    },
    {
      "cell_type": "markdown",
      "metadata": {
        "id": "Knr5kO4RXxhm",
        "colab_type": "text"
      },
      "source": [
        "### Checking for null values and data types\n"
      ]
    },
    {
      "cell_type": "code",
      "metadata": {
        "id": "1uQ8fTR3YtzH",
        "colab_type": "code",
        "colab": {
          "base_uri": "https://localhost:8080/",
          "height": 381
        },
        "outputId": "aeda0354-a84e-4260-87f1-786fd7b54370"
      },
      "source": [
        "orders.info()"
      ],
      "execution_count": 12,
      "outputs": [
        {
          "output_type": "stream",
          "text": [
            "<class 'pandas.core.frame.DataFrame'>\n",
            "Int64Index: 114100 entries, 0 to 114099\n",
            "Data columns (total 14 columns):\n",
            " #   Column                         Non-Null Count   Dtype  \n",
            "---  ------                         --------------   -----  \n",
            " 0   order_status                   114100 non-null  object \n",
            " 1   price                          113322 non-null  float64\n",
            " 2   order_purchase_timestamp       114100 non-null  int64  \n",
            " 3   order_approved_at              113938 non-null  object \n",
            " 4   order_estimated_delivery_date  114100 non-null  object \n",
            " 5   order_delivered_customer_date  110847 non-null  object \n",
            " 6   freight_value                  113322 non-null  float64\n",
            " 7   order_item_id                  113322 non-null  float64\n",
            " 8   customer_state                 114100 non-null  object \n",
            " 9   product_category_name_eng      111686 non-null  object \n",
            " 10  product_name_lenght            111710 non-null  float64\n",
            " 11  product_description_lenght     111710 non-null  float64\n",
            " 12  product_photos_qty             111710 non-null  float64\n",
            " 13  review_score                   114100 non-null  int64  \n",
            "dtypes: float64(6), int64(2), object(6)\n",
            "memory usage: 13.1+ MB\n"
          ],
          "name": "stdout"
        }
      ]
    },
    {
      "cell_type": "markdown",
      "metadata": {
        "id": "JurbtSMGc97Z",
        "colab_type": "text"
      },
      "source": [
        "There are 9 columns with null values."
      ]
    },
    {
      "cell_type": "markdown",
      "metadata": {
        "id": "Igf9JpxawBdd",
        "colab_type": "text"
      },
      "source": [
        "## Feature Engineering"
      ]
    },
    {
      "cell_type": "markdown",
      "metadata": {
        "id": "Z0NRjuW56f0K",
        "colab_type": "text"
      },
      "source": [
        "### Creating a Custom Transformer for FeatEng\n",
        "We need to guarantee that we are apply exactly the same transformation to new/unseen data. To do that we will create custom transformers using scikit-learn BaseEstimator.\n",
        "\n"
      ]
    },
    {
      "cell_type": "markdown",
      "metadata": {
        "id": "SQA5Nj9F8Nle",
        "colab_type": "text"
      },
      "source": [
        "### Features Hypotesis\n",
        "**Working Days Estimated Delivery Time**<br>\n",
        "Getting the days between order approval and estimated delivery date. A customer might be unsatisfied if he this time is long.\n",
        "\n",
        "**Working Days Actual Delivery Time**<br>\n",
        "Getting the days between order approval and delivered customer date. A customer might be more satisfied if he gets the product quicker.\n",
        "\n",
        "**Working Days Delivery Time** <br>\n",
        "The difference between the actual and estimated date. If negative was delivered early, if positive was delivered late. A customer might be more satisfied if the order arrives sooner than expected, or unhappy if he receives after the deadline.\n",
        "\n",
        "**Is Late**<br>\n",
        "Binary variable indicating if the order was delivered after the estimated date.\n",
        "\n",
        "**Average Product Value**<br>\n",
        "Cheaper products might have lower quality, leaving customers unhappy.\n",
        "\n",
        "**Total Order Value**<br>\n",
        "If a customer spends more, he might expect more.\n",
        "\n",
        "**Order Freight Ratio**<br>\n",
        "If a customer pays more for freight, he might expect a better service.\n",
        "\n",
        "**Purchase Day of Week**<br>\n",
        "Does it affect how happy are the customers?"
      ]
    },
    {
      "cell_type": "code",
      "metadata": {
        "id": "fUfFbdR06UYf",
        "colab_type": "code",
        "colab": {}
      },
      "source": [
        "cal = Brazil()\n",
        "\n",
        "from sklearn.base import BaseEstimator, TransformerMixin\n",
        "class AttributesAdder(BaseEstimator, TransformerMixin):\n",
        "    def __init__(self):\n",
        "        pass    \n",
        "    \n",
        "    def fit(self, X, y=None):\n",
        "        return self\n",
        "    \n",
        "    def transform(self, X, y=None):\n",
        "        df = X.copy()\n",
        "        \n",
        "        # Calculate the estimated delivery time and actual delivery time in working days. \n",
        "        # This would allow us to exclude hollidays that could influence delivery times.\n",
        "        # If the order_delivered_customer_date is null, it returns 0.\n",
        "        df['wd_estimated_delivery_days'] = df.apply(lambda x: cal.get_working_days_delta(x.order_approved_at, \n",
        "                                                                                      x.order_estimated_delivery_date), axis=1)\n",
        "        df['wd_actual_delivery_days'] = df.apply(lambda x: cal.get_working_days_delta(x.order_approved_at, \n",
        "                                                                                   x.order_delivered_customer_date), axis=1)\n",
        "\n",
        "        # Calculate the time between the actual and estimated delivery date. If negative was delivered early, if positive was delivered late.\n",
        "        df['wd_delivery_estimated_diff'] = df.wd_actual_delivery_days - df.wd_estimated_delivery_days\n",
        "\n",
        "\n",
        "        # Calculate the time between the actual and estimated delivery date. If negative was delivered early, if positive was delivered late.\n",
        "        df['is_late'] = df.order_delivered_customer_date > df.order_estimated_delivery_date\n",
        "        \n",
        "        # Calculate the average product value.\n",
        "        df['average_product_value'] = df.price / df.order_item_id\n",
        "\n",
        "        # Calculate the total order value\n",
        "        df['total_order_value'] = df.price + df.freight_value\n",
        "        \n",
        "        # Calculate the order freight ratio.\n",
        "        df['order_freight_ratio'] = df.freight_value / df.price\n",
        "        \n",
        "        # Calculate the order freight ratio.\n",
        "        df['purchase_dayofweek'] = df.order_purchase_timestamp\n",
        "                       \n",
        "        # With that we can remove the timestamps from the dataset\n",
        "        cols2drop = ['order_purchase_timestamp', 'order_approved_at', 'order_estimated_delivery_date', \n",
        "                     'order_delivered_customer_date']\n",
        "        df.drop(cols2drop, axis=1, inplace=True)\n",
        "        \n",
        "        return df.values"
      ],
      "execution_count": 13,
      "outputs": []
    },
    {
      "cell_type": "markdown",
      "metadata": {
        "id": "uOxvdx9u9v2m",
        "colab_type": "text"
      },
      "source": [
        "# 4. Data Visualizations"
      ]
    },
    {
      "cell_type": "markdown",
      "metadata": {
        "id": "KPRwwSdt_8mj",
        "colab_type": "text"
      },
      "source": [
        "## 4.1 Review score counts and product mean value as per review"
      ]
    },
    {
      "cell_type": "code",
      "metadata": {
        "id": "IaC1O0oM-Cjh",
        "colab_type": "code",
        "colab": {}
      },
      "source": [
        "items_reviews = pd.merge(order_reviews, order_items, how='left', on='order_id')\n",
        "review_qty = items_reviews.groupby('review_score').size()\n",
        "review_value = items_reviews.groupby('review_score')['price'].mean()"
      ],
      "execution_count": 14,
      "outputs": []
    },
    {
      "cell_type": "code",
      "metadata": {
        "id": "HzBIk9qo-Cgx",
        "colab_type": "code",
        "colab": {
          "base_uri": "https://localhost:8080/",
          "height": 417
        },
        "outputId": "e2a8acce-92af-464b-8067-beb237549448"
      },
      "source": [
        "trace0 = go.Bar(\n",
        "    x=review_qty.index,\n",
        "    y=review_qty.values,\n",
        "    name='Number of orders',\n",
        "    marker=dict(color='rgb(49,130,189)')\n",
        ")\n",
        "trace1 = go.Bar(\n",
        "    x=review_value.index,\n",
        "    y=review_value.values,\n",
        "    name='Product mean value',\n",
        "    marker=dict(color='rgb(204,204,204)')\n",
        ")\n",
        "fig = make_subplots(rows=1, cols=2, print_grid=False)\n",
        "fig.append_trace(trace0, 1, 1)\n",
        "fig.append_trace(trace1, 1, 2)\n",
        "\n",
        "fig['layout'].update(height=400, width=800, title='Review Score')\n",
        "fig['layout']['xaxis1'].update(title='review score', domain=[0, 0.40], tickmode = 'linear')\n",
        "fig['layout']['xaxis2'].update(title='review score', domain=[0.6, 1], tickmode = 'linear')\n",
        "iplot(fig);"
      ],
      "execution_count": 15,
      "outputs": [
        {
          "output_type": "display_data",
          "data": {
            "text/html": [
              "<html>\n",
              "<head><meta charset=\"utf-8\" /></head>\n",
              "<body>\n",
              "    <div>\n",
              "            <script src=\"https://cdnjs.cloudflare.com/ajax/libs/mathjax/2.7.5/MathJax.js?config=TeX-AMS-MML_SVG\"></script><script type=\"text/javascript\">if (window.MathJax) {MathJax.Hub.Config({SVG: {font: \"STIX-Web\"}});}</script>\n",
              "                <script type=\"text/javascript\">window.PlotlyConfig = {MathJaxConfig: 'local'};</script>\n",
              "        <script src=\"https://cdn.plot.ly/plotly-latest.min.js\"></script>    \n",
              "            <div id=\"4bdb507f-247c-4671-9cfb-48559530d527\" class=\"plotly-graph-div\" style=\"height:400px; width:800px;\"></div>\n",
              "            <script type=\"text/javascript\">\n",
              "                \n",
              "                    window.PLOTLYENV=window.PLOTLYENV || {};\n",
              "                    \n",
              "                if (document.getElementById(\"4bdb507f-247c-4671-9cfb-48559530d527\")) {\n",
              "                    Plotly.newPlot(\n",
              "                        '4bdb507f-247c-4671-9cfb-48559530d527',\n",
              "                        [{\"marker\": {\"color\": \"rgb(49,130,189)\"}, \"name\": \"Number of orders\", \"type\": \"bar\", \"x\": [1, 2, 3, 4, 5], \"xaxis\": \"x\", \"y\": [15342, 4048, 9597, 21415, 63698], \"yaxis\": \"y\"}, {\"marker\": {\"color\": \"rgb(204,204,204)\"}, \"name\": \"Product mean value\", \"type\": \"bar\", \"x\": [1, 2, 3, 4, 5], \"xaxis\": \"x2\", \"y\": [127.69807871777897, 115.30474146586494, 110.10178960603938, 118.83187877085955, 121.23948684507964], \"yaxis\": \"y2\"}],\n",
              "                        {\"height\": 400, \"template\": {\"data\": {\"bar\": [{\"error_x\": {\"color\": \"#2a3f5f\"}, \"error_y\": {\"color\": \"#2a3f5f\"}, \"marker\": {\"line\": {\"color\": \"#E5ECF6\", \"width\": 0.5}}, \"type\": \"bar\"}], \"barpolar\": [{\"marker\": {\"line\": {\"color\": \"#E5ECF6\", \"width\": 0.5}}, \"type\": \"barpolar\"}], \"carpet\": [{\"aaxis\": {\"endlinecolor\": \"#2a3f5f\", \"gridcolor\": \"white\", \"linecolor\": \"white\", \"minorgridcolor\": \"white\", \"startlinecolor\": \"#2a3f5f\"}, \"baxis\": {\"endlinecolor\": \"#2a3f5f\", \"gridcolor\": \"white\", \"linecolor\": \"white\", \"minorgridcolor\": \"white\", \"startlinecolor\": \"#2a3f5f\"}, \"type\": \"carpet\"}], \"choropleth\": [{\"colorbar\": {\"outlinewidth\": 0, \"ticks\": \"\"}, \"type\": \"choropleth\"}], \"contour\": [{\"colorbar\": {\"outlinewidth\": 0, \"ticks\": \"\"}, \"colorscale\": [[0.0, \"#0d0887\"], [0.1111111111111111, \"#46039f\"], [0.2222222222222222, \"#7201a8\"], [0.3333333333333333, \"#9c179e\"], [0.4444444444444444, \"#bd3786\"], [0.5555555555555556, \"#d8576b\"], [0.6666666666666666, \"#ed7953\"], [0.7777777777777778, \"#fb9f3a\"], [0.8888888888888888, \"#fdca26\"], [1.0, \"#f0f921\"]], \"type\": \"contour\"}], \"contourcarpet\": [{\"colorbar\": {\"outlinewidth\": 0, \"ticks\": \"\"}, \"type\": \"contourcarpet\"}], \"heatmap\": [{\"colorbar\": {\"outlinewidth\": 0, \"ticks\": \"\"}, \"colorscale\": [[0.0, \"#0d0887\"], [0.1111111111111111, \"#46039f\"], [0.2222222222222222, \"#7201a8\"], [0.3333333333333333, \"#9c179e\"], [0.4444444444444444, \"#bd3786\"], [0.5555555555555556, \"#d8576b\"], [0.6666666666666666, \"#ed7953\"], [0.7777777777777778, \"#fb9f3a\"], [0.8888888888888888, \"#fdca26\"], [1.0, \"#f0f921\"]], \"type\": \"heatmap\"}], \"heatmapgl\": [{\"colorbar\": {\"outlinewidth\": 0, \"ticks\": \"\"}, \"colorscale\": [[0.0, \"#0d0887\"], [0.1111111111111111, \"#46039f\"], [0.2222222222222222, \"#7201a8\"], [0.3333333333333333, \"#9c179e\"], [0.4444444444444444, \"#bd3786\"], [0.5555555555555556, \"#d8576b\"], [0.6666666666666666, \"#ed7953\"], [0.7777777777777778, \"#fb9f3a\"], [0.8888888888888888, \"#fdca26\"], [1.0, \"#f0f921\"]], \"type\": \"heatmapgl\"}], \"histogram\": [{\"marker\": {\"colorbar\": {\"outlinewidth\": 0, \"ticks\": \"\"}}, \"type\": \"histogram\"}], \"histogram2d\": [{\"colorbar\": {\"outlinewidth\": 0, \"ticks\": \"\"}, \"colorscale\": [[0.0, \"#0d0887\"], [0.1111111111111111, \"#46039f\"], [0.2222222222222222, \"#7201a8\"], [0.3333333333333333, \"#9c179e\"], [0.4444444444444444, \"#bd3786\"], [0.5555555555555556, \"#d8576b\"], [0.6666666666666666, \"#ed7953\"], [0.7777777777777778, \"#fb9f3a\"], [0.8888888888888888, \"#fdca26\"], [1.0, \"#f0f921\"]], \"type\": \"histogram2d\"}], \"histogram2dcontour\": [{\"colorbar\": {\"outlinewidth\": 0, \"ticks\": \"\"}, \"colorscale\": [[0.0, \"#0d0887\"], [0.1111111111111111, \"#46039f\"], [0.2222222222222222, \"#7201a8\"], [0.3333333333333333, \"#9c179e\"], [0.4444444444444444, \"#bd3786\"], [0.5555555555555556, \"#d8576b\"], [0.6666666666666666, \"#ed7953\"], [0.7777777777777778, \"#fb9f3a\"], [0.8888888888888888, \"#fdca26\"], [1.0, \"#f0f921\"]], \"type\": \"histogram2dcontour\"}], \"mesh3d\": [{\"colorbar\": {\"outlinewidth\": 0, \"ticks\": \"\"}, \"type\": \"mesh3d\"}], \"parcoords\": [{\"line\": {\"colorbar\": {\"outlinewidth\": 0, \"ticks\": \"\"}}, \"type\": \"parcoords\"}], \"pie\": [{\"automargin\": true, \"type\": \"pie\"}], \"scatter\": [{\"marker\": {\"colorbar\": {\"outlinewidth\": 0, \"ticks\": \"\"}}, \"type\": \"scatter\"}], \"scatter3d\": [{\"line\": {\"colorbar\": {\"outlinewidth\": 0, \"ticks\": \"\"}}, \"marker\": {\"colorbar\": {\"outlinewidth\": 0, \"ticks\": \"\"}}, \"type\": \"scatter3d\"}], \"scattercarpet\": [{\"marker\": {\"colorbar\": {\"outlinewidth\": 0, \"ticks\": \"\"}}, \"type\": \"scattercarpet\"}], \"scattergeo\": [{\"marker\": {\"colorbar\": {\"outlinewidth\": 0, \"ticks\": \"\"}}, \"type\": \"scattergeo\"}], \"scattergl\": [{\"marker\": {\"colorbar\": {\"outlinewidth\": 0, \"ticks\": \"\"}}, \"type\": \"scattergl\"}], \"scattermapbox\": [{\"marker\": {\"colorbar\": {\"outlinewidth\": 0, \"ticks\": \"\"}}, \"type\": \"scattermapbox\"}], \"scatterpolar\": [{\"marker\": {\"colorbar\": {\"outlinewidth\": 0, \"ticks\": \"\"}}, \"type\": \"scatterpolar\"}], \"scatterpolargl\": [{\"marker\": {\"colorbar\": {\"outlinewidth\": 0, \"ticks\": \"\"}}, \"type\": \"scatterpolargl\"}], \"scatterternary\": [{\"marker\": {\"colorbar\": {\"outlinewidth\": 0, \"ticks\": \"\"}}, \"type\": \"scatterternary\"}], \"surface\": [{\"colorbar\": {\"outlinewidth\": 0, \"ticks\": \"\"}, \"colorscale\": [[0.0, \"#0d0887\"], [0.1111111111111111, \"#46039f\"], [0.2222222222222222, \"#7201a8\"], [0.3333333333333333, \"#9c179e\"], [0.4444444444444444, \"#bd3786\"], [0.5555555555555556, \"#d8576b\"], [0.6666666666666666, \"#ed7953\"], [0.7777777777777778, \"#fb9f3a\"], [0.8888888888888888, \"#fdca26\"], [1.0, \"#f0f921\"]], \"type\": \"surface\"}], \"table\": [{\"cells\": {\"fill\": {\"color\": \"#EBF0F8\"}, \"line\": {\"color\": \"white\"}}, \"header\": {\"fill\": {\"color\": \"#C8D4E3\"}, \"line\": {\"color\": \"white\"}}, \"type\": \"table\"}]}, \"layout\": {\"annotationdefaults\": {\"arrowcolor\": \"#2a3f5f\", \"arrowhead\": 0, \"arrowwidth\": 1}, \"coloraxis\": {\"colorbar\": {\"outlinewidth\": 0, \"ticks\": \"\"}}, \"colorscale\": {\"diverging\": [[0, \"#8e0152\"], [0.1, \"#c51b7d\"], [0.2, \"#de77ae\"], [0.3, \"#f1b6da\"], [0.4, \"#fde0ef\"], [0.5, \"#f7f7f7\"], [0.6, \"#e6f5d0\"], [0.7, \"#b8e186\"], [0.8, \"#7fbc41\"], [0.9, \"#4d9221\"], [1, \"#276419\"]], \"sequential\": [[0.0, \"#0d0887\"], [0.1111111111111111, \"#46039f\"], [0.2222222222222222, \"#7201a8\"], [0.3333333333333333, \"#9c179e\"], [0.4444444444444444, \"#bd3786\"], [0.5555555555555556, \"#d8576b\"], [0.6666666666666666, \"#ed7953\"], [0.7777777777777778, \"#fb9f3a\"], [0.8888888888888888, \"#fdca26\"], [1.0, \"#f0f921\"]], \"sequentialminus\": [[0.0, \"#0d0887\"], [0.1111111111111111, \"#46039f\"], [0.2222222222222222, \"#7201a8\"], [0.3333333333333333, \"#9c179e\"], [0.4444444444444444, \"#bd3786\"], [0.5555555555555556, \"#d8576b\"], [0.6666666666666666, \"#ed7953\"], [0.7777777777777778, \"#fb9f3a\"], [0.8888888888888888, \"#fdca26\"], [1.0, \"#f0f921\"]]}, \"colorway\": [\"#636efa\", \"#EF553B\", \"#00cc96\", \"#ab63fa\", \"#FFA15A\", \"#19d3f3\", \"#FF6692\", \"#B6E880\", \"#FF97FF\", \"#FECB52\"], \"font\": {\"color\": \"#2a3f5f\"}, \"geo\": {\"bgcolor\": \"white\", \"lakecolor\": \"white\", \"landcolor\": \"#E5ECF6\", \"showlakes\": true, \"showland\": true, \"subunitcolor\": \"white\"}, \"hoverlabel\": {\"align\": \"left\"}, \"hovermode\": \"closest\", \"mapbox\": {\"style\": \"light\"}, \"paper_bgcolor\": \"white\", \"plot_bgcolor\": \"#E5ECF6\", \"polar\": {\"angularaxis\": {\"gridcolor\": \"white\", \"linecolor\": \"white\", \"ticks\": \"\"}, \"bgcolor\": \"#E5ECF6\", \"radialaxis\": {\"gridcolor\": \"white\", \"linecolor\": \"white\", \"ticks\": \"\"}}, \"scene\": {\"xaxis\": {\"backgroundcolor\": \"#E5ECF6\", \"gridcolor\": \"white\", \"gridwidth\": 2, \"linecolor\": \"white\", \"showbackground\": true, \"ticks\": \"\", \"zerolinecolor\": \"white\"}, \"yaxis\": {\"backgroundcolor\": \"#E5ECF6\", \"gridcolor\": \"white\", \"gridwidth\": 2, \"linecolor\": \"white\", \"showbackground\": true, \"ticks\": \"\", \"zerolinecolor\": \"white\"}, \"zaxis\": {\"backgroundcolor\": \"#E5ECF6\", \"gridcolor\": \"white\", \"gridwidth\": 2, \"linecolor\": \"white\", \"showbackground\": true, \"ticks\": \"\", \"zerolinecolor\": \"white\"}}, \"shapedefaults\": {\"line\": {\"color\": \"#2a3f5f\"}}, \"ternary\": {\"aaxis\": {\"gridcolor\": \"white\", \"linecolor\": \"white\", \"ticks\": \"\"}, \"baxis\": {\"gridcolor\": \"white\", \"linecolor\": \"white\", \"ticks\": \"\"}, \"bgcolor\": \"#E5ECF6\", \"caxis\": {\"gridcolor\": \"white\", \"linecolor\": \"white\", \"ticks\": \"\"}}, \"title\": {\"x\": 0.05}, \"xaxis\": {\"automargin\": true, \"gridcolor\": \"white\", \"linecolor\": \"white\", \"ticks\": \"\", \"title\": {\"standoff\": 15}, \"zerolinecolor\": \"white\", \"zerolinewidth\": 2}, \"yaxis\": {\"automargin\": true, \"gridcolor\": \"white\", \"linecolor\": \"white\", \"ticks\": \"\", \"title\": {\"standoff\": 15}, \"zerolinecolor\": \"white\", \"zerolinewidth\": 2}}}, \"title\": {\"text\": \"Review Score\"}, \"width\": 800, \"xaxis\": {\"anchor\": \"y\", \"domain\": [0, 0.4], \"tickmode\": \"linear\", \"title\": {\"text\": \"review score\"}}, \"xaxis2\": {\"anchor\": \"y2\", \"domain\": [0.6, 1], \"tickmode\": \"linear\", \"title\": {\"text\": \"review score\"}}, \"yaxis\": {\"anchor\": \"x\", \"domain\": [0.0, 1.0]}, \"yaxis2\": {\"anchor\": \"x2\", \"domain\": [0.0, 1.0]}},\n",
              "                        {\"responsive\": true}\n",
              "                    ).then(function(){\n",
              "                            \n",
              "var gd = document.getElementById('4bdb507f-247c-4671-9cfb-48559530d527');\n",
              "var x = new MutationObserver(function (mutations, observer) {{\n",
              "        var display = window.getComputedStyle(gd).display;\n",
              "        if (!display || display === 'none') {{\n",
              "            console.log([gd, 'removed!']);\n",
              "            Plotly.purge(gd);\n",
              "            observer.disconnect();\n",
              "        }}\n",
              "}});\n",
              "\n",
              "// Listen for the removal of the full notebook cells\n",
              "var notebookContainer = gd.closest('#notebook-container');\n",
              "if (notebookContainer) {{\n",
              "    x.observe(notebookContainer, {childList: true});\n",
              "}}\n",
              "\n",
              "// Listen for the clearing of the current output cell\n",
              "var outputEl = gd.closest('.output');\n",
              "if (outputEl) {{\n",
              "    x.observe(outputEl, {childList: true});\n",
              "}}\n",
              "\n",
              "                        })\n",
              "                };\n",
              "                \n",
              "            </script>\n",
              "        </div>\n",
              "</body>\n",
              "</html>"
            ]
          },
          "metadata": {
            "tags": []
          }
        }
      ]
    },
    {
      "cell_type": "markdown",
      "metadata": {
        "id": "ILNqUAKGAIis",
        "colab_type": "text"
      },
      "source": [
        "## 4.2 Difference between actual delivery time and estimated delivery time"
      ]
    },
    {
      "cell_type": "code",
      "metadata": {
        "id": "96IL4fHq-Cd4",
        "colab_type": "code",
        "colab": {
          "base_uri": "https://localhost:8080/",
          "height": 281
        },
        "outputId": "21a955ad-de9c-4487-be6b-bd70e6d90401"
      },
      "source": [
        "orders_df['order_purchase_timestamp'] = pd.to_datetime(orders_df['order_purchase_timestamp'])\n",
        "orders_df['order_approved_at'] = pd.to_datetime(orders_df['order_approved_at'])\n",
        "orders_df['order_estimated_delivery_date'] = pd.to_datetime(orders_df['order_estimated_delivery_date'])\n",
        "orders_df['order_delivered_customer_date'] = pd.to_datetime(orders_df['order_delivered_customer_date'])\n",
        "# Calculate differences in hours\n",
        "orders_df['delivery_time'] = (orders_df['order_delivered_customer_date'] - orders_df['order_approved_at']).dt.total_seconds() / 86400\n",
        "orders_df['estimated_delivery_time'] = (orders_df['order_estimated_delivery_date'] - orders_df['order_approved_at']).dt.total_seconds() / 86400\n",
        "# Delivery estimated time and actual delivery time\n",
        "plt.figure(figsize=(10,4))\n",
        "plt.title(\"Delivery time in days\")\n",
        "plt.xlim(-10, 200)\n",
        "\n",
        "ax1 = sns.kdeplot(orders_df['delivery_time'].dropna(), color=\"#D84E30\", label='Delivery time')\n",
        "ax2 = sns.kdeplot(orders_df['estimated_delivery_time'].dropna(), color=\"#7E7270\", label='Estimated delivery time')"
      ],
      "execution_count": 16,
      "outputs": [
        {
          "output_type": "display_data",
          "data": {
            "image/png": "[encoded data removed]",
            "text/plain": [
              "<Figure size 720x288 with 1 Axes>"
            ]
          },
          "metadata": {
            "tags": [],
            "needs_background": "light"
          }
        }
      ]
    },
    {
      "cell_type": "markdown",
      "metadata": {
        "id": "2ZfeEu6r1OEv",
        "colab_type": "text"
      },
      "source": [
        "#5. Model Building"
      ]
    },
    {
      "cell_type": "code",
      "metadata": {
        "id": "cQiXBLfpwjIZ",
        "colab_type": "code",
        "colab": {}
      },
      "source": [
        "#Categrical features to pass down the categorical pipeline \n",
        "categorical_features = ['order_status', 'customer_state', 'product_category_name_eng']\n",
        "\n",
        "#Numerical features to pass down the numerical pipeline \n",
        "numerical_features = ['price', 'freight_value', 'order_item_id', 'product_name_lenght', 'product_description_lenght', \n",
        "                 'product_photos_qty', 'order_purchase_timestamp',\n",
        "                 'order_approved_at', 'order_estimated_delivery_date',\n",
        "                 'order_delivered_customer_date']\n",
        "\n",
        "\n",
        "#Defining the steps in the categorical pipeline \n",
        "categorical_pipeline = Pipeline( steps = [ ('imputer', SimpleImputer(strategy = 'most_frequent') ),                                \n",
        "                                  ( 'one_hot_encoder', OneHotEncoder( sparse = False ) ) ] )\n",
        "    \n",
        "#Defining the steps in the numerical pipeline     \n",
        "numerical_pipeline = Pipeline( steps = [ ('attribs_adder', AttributesAdder() ),                             \n",
        "                                  ('imputer', SimpleImputer(strategy = 'median') ),                   \n",
        "                                  ( 'std_scaler', StandardScaler() ) ] )\n",
        "\n",
        "#Combining numerical and categorical piepline into one full big pipeline horizontally using ColumnTransformer\n",
        "full_pipeline = ColumnTransformer(\n",
        "    transformers=[\n",
        "       ('num', categorical_pipeline, categorical_features ),                                               \n",
        "                                                  ('cat',numerical_pipeline, numerical_features )])"
      ],
      "execution_count": 17,
      "outputs": []
    },
    {
      "cell_type": "code",
      "metadata": {
        "id": "RkxqGjYQnte7",
        "colab_type": "code",
        "colab": {}
      },
      "source": [
        "#Leave it as a dataframe becuase our pipeline is called on a \n",
        "#pandas dataframe to extract the appropriate columns, remember?\n",
        "X = orders.drop('review_score', axis = 1)\n",
        "#You can covert the target variable to numpy \n",
        "y = orders['review_score']\n",
        "\n",
        "split = StratifiedShuffleSplit(n_splits=1, test_size=0.2, random_state=42)\n",
        "for train_index, test_index in split.split(X, y):\n",
        "  X_train, X_test = X.loc[train_index], X.loc[test_index]\n",
        "  y_train, y_test = y.loc[train_index], y.loc[test_index]\n",
        "\n",
        "#The full pipeline as a step in another pipeline with an estimator as the final step\n",
        "full_pipeline_m = Pipeline( steps = [ ( 'full_pipeline', full_pipeline),\n",
        "                                  \n",
        "                                  ( 'model', LinearRegression() ) ] )\n",
        "\n",
        "#Can call fit on it just like any other pipeline\n",
        "full_pipeline_m.fit( X_train, y_train )\n",
        "\n",
        "#Can predict with it like any other pipeline\n",
        "y_pred = full_pipeline_m.predict( X_test ) "
      ],
      "execution_count": 18,
      "outputs": []
    },
    {
      "cell_type": "code",
      "metadata": {
        "id": "_nMMTFgutyYT",
        "colab_type": "code",
        "colab": {
          "base_uri": "https://localhost:8080/",
          "height": 52
        },
        "outputId": "c484e148-201e-4975-ce35-103027ba4c1c"
      },
      "source": [
        "y_pred"
      ],
      "execution_count": 19,
      "outputs": [
        {
          "output_type": "execute_result",
          "data": {
            "text/plain": [
              "array([4.19869995, 4.17770386, 1.99703979, ..., 4.30172729, 4.08200073,\n",
              "       4.4357605 ])"
            ]
          },
          "metadata": {
            "tags": []
          },
          "execution_count": 19
        }
      ]
    },
    {
      "cell_type": "code",
      "metadata": {
        "id": "FM-KXLF7t9PT",
        "colab_type": "code",
        "colab": {
          "base_uri": "https://localhost:8080/",
          "height": 35
        },
        "outputId": "7fa90995-caaa-4f16-d31c-be039425cdb2"
      },
      "source": [
        "forest_mse = mean_squared_error(y_test, y_pred)\n",
        "forest_rmse = np.sqrt(forest_mse)\n",
        "forest_rmse"
      ],
      "execution_count": 23,
      "outputs": [
        {
          "output_type": "execute_result",
          "data": {
            "text/plain": [
              "1.2427031953014394"
            ]
          },
          "metadata": {
            "tags": []
          },
          "execution_count": 23
        }
      ]
    },
    {
      "cell_type": "code",
      "metadata": {
        "id": "yW5YPcLcuxod",
        "colab_type": "code",
        "colab": {
          "base_uri": "https://localhost:8080/",
          "height": 104
        },
        "outputId": "67ce8c11-adcf-412b-d40b-11b8d34aee05"
      },
      "source": [
        "unique_elements, counts_elements = np.unique(y_pred, return_counts=True)\n",
        "print(\"Frequency of unique values of the said array:\")\n",
        "print(np.asarray((unique_elements, counts_elements)))"
      ],
      "execution_count": 24,
      "outputs": [
        {
          "output_type": "stream",
          "text": [
            "Frequency of unique values of the said array:\n",
            "[[-1.6255188  -0.90090942 -0.75686646 ...  4.92672729  5.15914917\n",
            "   5.22653198]\n",
            " [ 1.          1.          1.         ...  1.          1.\n",
            "   1.        ]]\n"
          ],
          "name": "stdout"
        }
      ]
    },
    {
      "cell_type": "code",
      "metadata": {
        "id": "UrOIDe3p3Ol-",
        "colab_type": "code",
        "colab": {
          "base_uri": "https://localhost:8080/",
          "height": 607
        },
        "outputId": "d24158cc-f417-498d-919a-4abc38b40cad"
      },
      "source": [
        "# Choosing best classifier\n",
        "classifiers = [\n",
        "    KNeighborsClassifier(3),\n",
        "    DecisionTreeClassifier(),\n",
        "    RandomForestClassifier(),\n",
        "    AdaBoostClassifier(),\n",
        "    GradientBoostingClassifier()\n",
        "    ]\n",
        "for classifier in classifiers:\n",
        "    pipe = Pipeline(steps=[('full_pipeline', full_pipeline),\n",
        "                      ('classifier', classifier)])\n",
        "    pipe.fit(X_train, y_train)   \n",
        "    print(classifier)\n",
        "    print(\"model score: %.3f\" % pipe.score(X_test, y_test))"
      ],
      "execution_count": 25,
      "outputs": [
        {
          "output_type": "stream",
          "text": [
            "KNeighborsClassifier(algorithm='auto', leaf_size=30, metric='minkowski',\n",
            "                     metric_params=None, n_jobs=None, n_neighbors=3, p=2,\n",
            "                     weights='uniform')\n",
            "model score: 0.489\n",
            "DecisionTreeClassifier(ccp_alpha=0.0, class_weight=None, criterion='gini',\n",
            "                       max_depth=None, max_features=None, max_leaf_nodes=None,\n",
            "                       min_impurity_decrease=0.0, min_impurity_split=None,\n",
            "                       min_samples_leaf=1, min_samples_split=2,\n",
            "                       min_weight_fraction_leaf=0.0, presort='deprecated',\n",
            "                       random_state=None, splitter='best')\n",
            "model score: 0.450\n",
            "RandomForestClassifier(bootstrap=True, ccp_alpha=0.0, class_weight=None,\n",
            "                       criterion='gini', max_depth=None, max_features='auto',\n",
            "                       max_leaf_nodes=None, max_samples=None,\n",
            "                       min_impurity_decrease=0.0, min_impurity_split=None,\n",
            "                       min_samples_leaf=1, min_samples_split=2,\n",
            "                       min_weight_fraction_leaf=0.0, n_estimators=100,\n",
            "                       n_jobs=None, oob_score=False, random_state=None,\n",
            "                       verbose=0, warm_start=False)\n",
            "model score: 0.621\n",
            "AdaBoostClassifier(algorithm='SAMME.R', base_estimator=None, learning_rate=1.0,\n",
            "                   n_estimators=50, random_state=None)\n",
            "model score: 0.603\n",
            "GradientBoostingClassifier(ccp_alpha=0.0, criterion='friedman_mse', init=None,\n",
            "                           learning_rate=0.1, loss='deviance', max_depth=3,\n",
            "                           max_features=None, max_leaf_nodes=None,\n",
            "                           min_impurity_decrease=0.0, min_impurity_split=None,\n",
            "                           min_samples_leaf=1, min_samples_split=2,\n",
            "                           min_weight_fraction_leaf=0.0, n_estimators=100,\n",
            "                           n_iter_no_change=None, presort='deprecated',\n",
            "                           random_state=None, subsample=1.0, tol=0.0001,\n",
            "                           validation_fraction=0.1, verbose=0,\n",
            "                           warm_start=False)\n",
            "model score: 0.605\n"
          ],
          "name": "stdout"
        }
      ]
    },
    {
      "cell_type": "markdown",
      "metadata": {
        "id": "x1rQPogDjyy5",
        "colab_type": "text"
      },
      "source": [
        "I will further do hyperparameter tuning and use Random Forest Classifier for better score."
      ]
    }
  ]
}