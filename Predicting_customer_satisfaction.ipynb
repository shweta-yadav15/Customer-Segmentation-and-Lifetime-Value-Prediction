{
  "nbformat": 4,
  "nbformat_minor": 0,
  "metadata": {
    "colab": {
      "name": "Predicting_customer_satisfaction.ipynb",
      "provenance": [],
      "authorship_tag": "ABX9TyM8j/lNMmlOB9mA/iDMtCEX",
      "include_colab_link": true
    },
    "kernelspec": {
      "name": "python3",
      "display_name": "Python 3"
    }
  },
  "cells": [
    {
      "cell_type": "markdown",
      "metadata": {
        "id": "view-in-github",
        "colab_type": "text"
      },
      "source": [
        "<a href=\"https://colab.research.google.com/github/shwets1503/Sales_Prediction/blob/master/Predicting_customer_satisfaction.ipynb\" target=\"_parent\"><img src=\"https://colab.research.google.com/assets/colab-badge.svg\" alt=\"Open In Colab\"/></a>"
      ]
    },
    {
      "cell_type": "code",
      "metadata": {
        "id": "nsCqAdpDxI3L",
        "colab_type": "code",
        "colab": {
          "base_uri": "https://localhost:8080/",
          "height": 35
        },
        "outputId": "f4c9a9de-3704-4778-8b14-ac08356fdb86"
      },
      "source": [
        "from google.colab import drive\n",
        "drive.mount('/content/drive')"
      ],
      "execution_count": 338,
      "outputs": [
        {
          "output_type": "stream",
          "text": [
            "Drive already mounted at /content/drive; to attempt to forcibly remount, call drive.mount(\"/content/drive\", force_remount=True).\n"
          ],
          "name": "stdout"
        }
      ]
    },
    {
      "cell_type": "code",
      "metadata": {
        "id": "udMYorNzxQvg",
        "colab_type": "code",
        "colab": {}
      },
      "source": [
        "import numpy as np # linear algebra\n",
        "import pandas as pd # data processing, CSV file I/O (e.g. pd.read_csv)\n",
        "import seaborn as sns\n",
        "import matplotlib.pyplot as plt\n",
        "import datetime as dt"
      ],
      "execution_count": 339,
      "outputs": []
    },
    {
      "cell_type": "code",
      "metadata": {
        "id": "1dWEzoC5xuDu",
        "colab_type": "code",
        "colab": {}
      },
      "source": [
        "orders_df = pd.read_csv('../content/drive/My Drive/sales_data2/olist_orders_dataset.csv', engine='python')\n",
        "order_items = pd.read_csv('../content/drive/My Drive/sales_data2/olist_order_items_dataset.csv', engine='python')\n",
        "order_reviews = pd.read_csv('../content/drive/My Drive/sales_data2/olist_order_reviews_dataset.csv', engine='python')\n",
        "products = pd.read_csv('../content/drive/My Drive/sales_data3/olist_products_dataset.csv', engine='python')\n",
        "product_category = pd.read_csv('../content/drive/My Drive/sales_data3/product_category_name_translation.csv', engine='python')\n",
        "customer = pd.read_csv('../content/drive/My Drive/sales_data/customers_dataset.csv', engine='python')"
      ],
      "execution_count": 340,
      "outputs": []
    },
    {
      "cell_type": "code",
      "metadata": {
        "id": "C56K1VvQy-qM",
        "colab_type": "code",
        "colab": {}
      },
      "source": [
        "categories = pd.merge(products, product_category,how ='left', left_on ='product_category_name', right_index = True, suffixes=(None, '_eng')).drop('product_category_name', axis=1)"
      ],
      "execution_count": 341,
      "outputs": []
    },
    {
      "cell_type": "code",
      "metadata": {
        "id": "xAVwIVu1xuMI",
        "colab_type": "code",
        "colab": {}
      },
      "source": [
        "orders = pd.merge(order_reviews, order_items, how='left', on='order_id')\n",
        "orders = pd.merge(orders, orders_df, how='left', on='order_id')\n",
        "orders = pd.merge(orders, customer, how='left', on='customer_id')\n",
        "orders = pd.merge(orders, categories, how='left', on='product_id')"
      ],
      "execution_count": 342,
      "outputs": []
    },
    {
      "cell_type": "code",
      "metadata": {
        "id": "9wuZF13rxuQV",
        "colab_type": "code",
        "colab": {}
      },
      "source": [
        "# converting to datetime\n",
        "orders['order_purchase_timestamp'] = pd.to_datetime(orders.order_purchase_timestamp)\n",
        "orders['order_approved_at'] = pd.to_datetime(orders.order_approved_at).dt.date  \n",
        "orders['order_estimated_delivery_date'] = pd.to_datetime(orders.order_estimated_delivery_date).dt.date  \n",
        "orders['order_delivered_customer_date'] = pd.to_datetime(orders.order_delivered_customer_date).dt.date  "
      ],
      "execution_count": 343,
      "outputs": []
    },
    {
      "cell_type": "markdown",
      "metadata": {
        "id": "0n-2u99V1N2d",
        "colab_type": "text"
      },
      "source": [
        "# Defining the problem\n",
        "Our problem is to find a way to estimate, based on data about the product and order, what will be the customer review score.\n",
        "# The hypothesis\n",
        "Our main hypothesis is that the product and how the order was fulfilled might influence the customer review score. Keep in mind that each feature we create is a new hypothesis we are testing.\n",
        "\n",
        "#Designing an Experiment\n",
        "To answer that question we must implement collect data from each order up to delivery phase. With that, we should implement a model that estimates what will be the score given by the customer at the review phase."
      ]
    },
    {
      "cell_type": "code",
      "metadata": {
        "id": "f5AOvmTgxuJ6",
        "colab_type": "code",
        "colab": {}
      },
      "source": [
        "orders = orders[['order_status', 'price',\n",
        "                 'freight_value', 'order_item_id', \n",
        "                 'order_purchase_timestamp', 'order_approved_at', 'order_estimated_delivery_date', \n",
        "                 'order_delivered_customer_date', 'customer_state', \n",
        "                 'product_category_name_eng', 'product_name_lenght', 'product_description_lenght', \n",
        "                 'product_photos_qty', 'review_score']]"
      ],
      "execution_count": 344,
      "outputs": []
    },
    {
      "cell_type": "code",
      "metadata": {
        "id": "_9jQAueixuHr",
        "colab_type": "code",
        "colab": {
          "base_uri": "https://localhost:8080/",
          "height": 121
        },
        "outputId": "86004f01-75da-463a-a1c8-91dbd013fc37"
      },
      "source": [
        "# We keep the same proportion of classes\n",
        "orders['review_score'].value_counts() / len(orders['review_score'])"
      ],
      "execution_count": 345,
      "outputs": [
        {
          "output_type": "execute_result",
          "data": {
            "text/plain": [
              "5    0.558265\n",
              "4    0.187686\n",
              "1    0.134461\n",
              "3    0.084110\n",
              "2    0.035478\n",
              "Name: review_score, dtype: float64"
            ]
          },
          "metadata": {
            "tags": []
          },
          "execution_count": 345
        }
      ]
    },
    {
      "cell_type": "code",
      "metadata": {
        "id": "QA6Qq8KIxtIU",
        "colab_type": "code",
        "colab": {
          "base_uri": "https://localhost:8080/",
          "height": 121
        },
        "outputId": "009472e6-1361-4114-d6df-787c94c956a4"
      },
      "source": [
        "# Simple Split\n",
        "from sklearn.model_selection import train_test_split\n",
        "\n",
        "# split\n",
        "train_set, test_set = train_test_split(orders, test_size=0.2, random_state=42)\n",
        "test_set['review_score'].value_counts() / len(test_set['review_score'])"
      ],
      "execution_count": 346,
      "outputs": [
        {
          "output_type": "execute_result",
          "data": {
            "text/plain": [
              "5    0.559202\n",
              "4    0.185714\n",
              "1    0.138650\n",
              "3    0.082121\n",
              "2    0.034312\n",
              "Name: review_score, dtype: float64"
            ]
          },
          "metadata": {
            "tags": []
          },
          "execution_count": 346
        }
      ]
    },
    {
      "cell_type": "code",
      "metadata": {
        "id": "VXsIfwK83E2R",
        "colab_type": "code",
        "colab": {}
      },
      "source": [
        "# Stratified Split\n",
        "from sklearn.model_selection import StratifiedShuffleSplit\n",
        "\n",
        "split = StratifiedShuffleSplit(n_splits=1, test_size=0.2, random_state=42)\n",
        "for train_index, test_index in split.split(orders, orders['review_score']):\n",
        "    strat_train_set = orders.loc[train_index]\n",
        "    strat_test_set = orders.loc[test_index]"
      ],
      "execution_count": 347,
      "outputs": []
    },
    {
      "cell_type": "code",
      "metadata": {
        "id": "14Unmg2s3awc",
        "colab_type": "code",
        "colab": {
          "base_uri": "https://localhost:8080/",
          "height": 121
        },
        "outputId": "655dac61-2832-47d4-d5a2-5bb465c61a8f"
      },
      "source": [
        "strat_train_set['review_score'].value_counts() / len(strat_train_set['review_score'])"
      ],
      "execution_count": 348,
      "outputs": [
        {
          "output_type": "execute_result",
          "data": {
            "text/plain": [
              "5    0.558260\n",
              "4    0.187686\n",
              "1    0.134465\n",
              "3    0.084115\n",
              "2    0.035473\n",
              "Name: review_score, dtype: float64"
            ]
          },
          "metadata": {
            "tags": []
          },
          "execution_count": 348
        }
      ]
    },
    {
      "cell_type": "code",
      "metadata": {
        "id": "-OPTp6ZhWK9r",
        "colab_type": "code",
        "colab": {}
      },
      "source": [
        "strat_train_set.dropna(axis=0,how='any', inplace=True)"
      ],
      "execution_count": 349,
      "outputs": []
    },
    {
      "cell_type": "markdown",
      "metadata": {
        "id": "mV8Ys7qP3jjP",
        "colab_type": "text"
      },
      "source": [
        "By doing a stratified split we keep the same proportion between classes. This split better represent the original data and will possibli reduce any bias.\n",
        "\n"
      ]
    },
    {
      "cell_type": "markdown",
      "metadata": {
        "id": "-4EaHHvr45R5",
        "colab_type": "text"
      },
      "source": [
        "# Feature Engineering"
      ]
    },
    {
      "cell_type": "code",
      "metadata": {
        "id": "1V-iTKoSQ6ru",
        "colab_type": "code",
        "colab": {}
      },
      "source": [
        "orders_features = strat_train_set.drop('review_score', axis=1)\n",
        "orders_labels = strat_train_set['review_score'].copy()"
      ],
      "execution_count": 350,
      "outputs": []
    },
    {
      "cell_type": "markdown",
      "metadata": {
        "id": "Z0NRjuW56f0K",
        "colab_type": "text"
      },
      "source": [
        "# Creating a Custom Transformer for FeatEng\n",
        "We need to guarantee that we are apply exactly the same transformation to new/unseen data. To do that we will create custom transformers using scikit-learn BaseEstimator.\n",
        "\n",
        "This first custom transformer will do the feature engineering that we just described earlier."
      ]
    },
    {
      "cell_type": "code",
      "metadata": {
        "id": "Hqn6OmsA41Bv",
        "colab_type": "code",
        "colab": {
          "base_uri": "https://localhost:8080/",
          "height": 156
        },
        "outputId": "2d8f11d8-7faa-491a-ef73-3a4875698990"
      },
      "source": [
        "corr_matrix = strat_train_set.corr()\n",
        "corr_matrix['review_score'].sort_values(ascending=False)"
      ],
      "execution_count": 351,
      "outputs": [
        {
          "output_type": "execute_result",
          "data": {
            "text/plain": [
              "review_score                  1.000000\n",
              "product_photos_qty            0.022280\n",
              "product_description_lenght    0.013805\n",
              "price                        -0.000592\n",
              "product_name_lenght          -0.013109\n",
              "freight_value                -0.035872\n",
              "order_item_id                -0.140872\n",
              "Name: review_score, dtype: float64"
            ]
          },
          "metadata": {
            "tags": []
          },
          "execution_count": 351
        }
      ]
    },
    {
      "cell_type": "code",
      "metadata": {
        "id": "I3Khikeh4_YR",
        "colab_type": "code",
        "colab": {
          "base_uri": "https://localhost:8080/",
          "height": 260
        },
        "outputId": "5a6f5e3f-f16e-4262-9a32-b767c3f06fe2"
      },
      "source": [
        "# To consider Brazilian calendar and hollidays\n",
        "!pip install workalendar\n",
        "from workalendar.america import Brazil\n",
        "cal = Brazil()"
      ],
      "execution_count": 352,
      "outputs": [
        {
          "output_type": "stream",
          "text": [
            "Requirement already satisfied: workalendar in /usr/local/lib/python3.6/dist-packages (10.3.0)\n",
            "Requirement already satisfied: skyfield-data in /usr/local/lib/python3.6/dist-packages (from workalendar) (1.1.0)\n",
            "Requirement already satisfied: lunardate in /usr/local/lib/python3.6/dist-packages (from workalendar) (0.2.0)\n",
            "Requirement already satisfied: setuptools>=1.0 in /usr/local/lib/python3.6/dist-packages (from workalendar) (49.2.0)\n",
            "Requirement already satisfied: pytz in /usr/local/lib/python3.6/dist-packages (from workalendar) (2018.9)\n",
            "Requirement already satisfied: python-dateutil in /usr/local/lib/python3.6/dist-packages (from workalendar) (2.8.1)\n",
            "Requirement already satisfied: pyluach in /usr/local/lib/python3.6/dist-packages (from workalendar) (1.1.0)\n",
            "Requirement already satisfied: pyCalverter in /usr/local/lib/python3.6/dist-packages (from workalendar) (1.6.1)\n",
            "Requirement already satisfied: skyfield in /usr/local/lib/python3.6/dist-packages (from workalendar) (1.26)\n",
            "Requirement already satisfied: six>=1.5 in /usr/local/lib/python3.6/dist-packages (from python-dateutil->workalendar) (1.15.0)\n",
            "Requirement already satisfied: numpy in /usr/local/lib/python3.6/dist-packages (from skyfield->workalendar) (1.18.5)\n",
            "Requirement already satisfied: sgp4>=2.2 in /usr/local/lib/python3.6/dist-packages (from skyfield->workalendar) (2.12)\n",
            "Requirement already satisfied: jplephem>=2.13 in /usr/local/lib/python3.6/dist-packages (from skyfield->workalendar) (2.14)\n",
            "Requirement already satisfied: certifi>=2017.4.17 in /usr/local/lib/python3.6/dist-packages (from skyfield->workalendar) (2020.6.20)\n"
          ],
          "name": "stdout"
        }
      ]
    },
    {
      "cell_type": "code",
      "metadata": {
        "id": "fUfFbdR06UYf",
        "colab_type": "code",
        "colab": {}
      },
      "source": [
        "from sklearn.base import BaseEstimator, TransformerMixin\n",
        "class AttributesAdder(BaseEstimator, TransformerMixin):\n",
        "    def __init__(self):\n",
        "        pass    \n",
        "    \n",
        "    def fit(self, X, y=None):\n",
        "        return self\n",
        "    \n",
        "    def transform(self, X, y=None):\n",
        "        df = X.copy()\n",
        "        \n",
        "        # Calculate the estimated delivery time and actual delivery time in working days. \n",
        "        # This would allow us to exclude hollidays that could influence delivery times.\n",
        "        # If the order_delivered_customer_date is null, it returns 0.\n",
        "        df['wd_estimated_delivery_time'] = df.apply(lambda x: cal.get_working_days_delta(x.order_approved_at, \n",
        "                                                                                      x.order_estimated_delivery_date), axis=1)\n",
        "        df['wd_actual_delivery_time'] = df.apply(lambda x: cal.get_working_days_delta(x.order_approved_at, \n",
        "                                                                                   x.order_delivered_customer_date), axis=1)\n",
        "\n",
        "        # Calculate the time between the actual and estimated delivery date. If negative was delivered early, if positive was delivered late.\n",
        "        df['wd_delivery_time_delta'] = df.wd_actual_delivery_time - df.wd_estimated_delivery_time\n",
        "\n",
        "\n",
        "        # Calculate the time between the actual and estimated delivery date. If negative was delivered early, if positive was delivered late.\n",
        "        df['is_late'] = df.order_delivered_customer_date > df.order_estimated_delivery_date\n",
        "        \n",
        "        # Calculate the average product value.\n",
        "        df['average_product_value'] = df.price / df.order_item_id\n",
        "\n",
        "        # Calculate the total order value\n",
        "        df['total_order_value'] = df.price + df.freight_value\n",
        "        \n",
        "        # Calculate the order freight ratio.\n",
        "        df['order_freight_ratio'] = df.freight_value / df.price\n",
        "        \n",
        "        # Calculate the order freight ratio.\n",
        "        df['purchase_dayofweek'] = df.order_purchase_timestamp.dt.dayofweek\n",
        "                       \n",
        "        # With that we can remove the timestamps from the dataset\n",
        "        cols2drop = ['order_purchase_timestamp', 'order_approved_at', 'order_estimated_delivery_date', \n",
        "                     'order_delivered_customer_date']\n",
        "        df.drop(cols2drop, axis=1, inplace=True)\n",
        "        \n",
        "        return df"
      ],
      "execution_count": 353,
      "outputs": []
    },
    {
      "cell_type": "code",
      "metadata": {
        "id": "U7B5khLp6UUy",
        "colab_type": "code",
        "colab": {
          "base_uri": "https://localhost:8080/",
          "height": 161
        },
        "outputId": "bde6e0e9-08c6-4ff4-b101-01ce40326709"
      },
      "source": [
        "# Executing the estimator we just created\n",
        "attr_adder = AttributesAdder()\n",
        "feat_eng = attr_adder.transform(strat_train_set)\n",
        "feat_eng.head(3)"
      ],
      "execution_count": 354,
      "outputs": [
        {
          "output_type": "execute_result",
          "data": {
            "text/html": [
              "<div>\n",
              "<style scoped>\n",
              "    .dataframe tbody tr th:only-of-type {\n",
              "        vertical-align: middle;\n",
              "    }\n",
              "\n",
              "    .dataframe tbody tr th {\n",
              "        vertical-align: top;\n",
              "    }\n",
              "\n",
              "    .dataframe thead th {\n",
              "        text-align: right;\n",
              "    }\n",
              "</style>\n",
              "<table border=\"1\" class=\"dataframe\">\n",
              "  <thead>\n",
              "    <tr style=\"text-align: right;\">\n",
              "      <th></th>\n",
              "      <th>order_status</th>\n",
              "      <th>price</th>\n",
              "      <th>freight_value</th>\n",
              "      <th>order_item_id</th>\n",
              "      <th>customer_state</th>\n",
              "      <th>product_category_name_eng</th>\n",
              "      <th>product_name_lenght</th>\n",
              "      <th>product_description_lenght</th>\n",
              "      <th>product_photos_qty</th>\n",
              "      <th>review_score</th>\n",
              "      <th>wd_estimated_delivery_time</th>\n",
              "      <th>wd_actual_delivery_time</th>\n",
              "      <th>wd_delivery_time_delta</th>\n",
              "      <th>is_late</th>\n",
              "      <th>average_product_value</th>\n",
              "      <th>total_order_value</th>\n",
              "      <th>order_freight_ratio</th>\n",
              "      <th>purchase_dayofweek</th>\n",
              "    </tr>\n",
              "  </thead>\n",
              "  <tbody>\n",
              "    <tr>\n",
              "      <th>32719</th>\n",
              "      <td>delivered</td>\n",
              "      <td>39.9</td>\n",
              "      <td>18.23</td>\n",
              "      <td>1.0</td>\n",
              "      <td>MG</td>\n",
              "      <td>computers_accessories</td>\n",
              "      <td>55.0</td>\n",
              "      <td>197.0</td>\n",
              "      <td>1.0</td>\n",
              "      <td>4</td>\n",
              "      <td>19</td>\n",
              "      <td>7</td>\n",
              "      <td>-12</td>\n",
              "      <td>False</td>\n",
              "      <td>39.9</td>\n",
              "      <td>58.13</td>\n",
              "      <td>0.456892</td>\n",
              "      <td>4</td>\n",
              "    </tr>\n",
              "    <tr>\n",
              "      <th>43987</th>\n",
              "      <td>delivered</td>\n",
              "      <td>22.5</td>\n",
              "      <td>15.10</td>\n",
              "      <td>1.0</td>\n",
              "      <td>RJ</td>\n",
              "      <td>housewares</td>\n",
              "      <td>51.0</td>\n",
              "      <td>444.0</td>\n",
              "      <td>1.0</td>\n",
              "      <td>5</td>\n",
              "      <td>15</td>\n",
              "      <td>10</td>\n",
              "      <td>-5</td>\n",
              "      <td>False</td>\n",
              "      <td>22.5</td>\n",
              "      <td>37.60</td>\n",
              "      <td>0.671111</td>\n",
              "      <td>0</td>\n",
              "    </tr>\n",
              "    <tr>\n",
              "      <th>2976</th>\n",
              "      <td>delivered</td>\n",
              "      <td>69.9</td>\n",
              "      <td>24.71</td>\n",
              "      <td>1.0</td>\n",
              "      <td>RS</td>\n",
              "      <td>furniture_decor</td>\n",
              "      <td>44.0</td>\n",
              "      <td>903.0</td>\n",
              "      <td>6.0</td>\n",
              "      <td>5</td>\n",
              "      <td>22</td>\n",
              "      <td>10</td>\n",
              "      <td>-12</td>\n",
              "      <td>False</td>\n",
              "      <td>69.9</td>\n",
              "      <td>94.61</td>\n",
              "      <td>0.353505</td>\n",
              "      <td>0</td>\n",
              "    </tr>\n",
              "  </tbody>\n",
              "</table>\n",
              "</div>"
            ],
            "text/plain": [
              "      order_status  price  ...  order_freight_ratio  purchase_dayofweek\n",
              "32719    delivered   39.9  ...             0.456892                   4\n",
              "43987    delivered   22.5  ...             0.671111                   0\n",
              "2976     delivered   69.9  ...             0.353505                   0\n",
              "\n",
              "[3 rows x 18 columns]"
            ]
          },
          "metadata": {
            "tags": []
          },
          "execution_count": 354
        }
      ]
    },
    {
      "cell_type": "code",
      "metadata": {
        "id": "y0GD8p1W6URj",
        "colab_type": "code",
        "colab": {
          "base_uri": "https://localhost:8080/",
          "height": 295
        },
        "outputId": "165f5a25-9e9b-4ca5-caf0-3aac2eaab2ca"
      },
      "source": [
        "corr_matrix = feat_eng.corr()\n",
        "corr_matrix['review_score'].sort_values(ascending=False)"
      ],
      "execution_count": 355,
      "outputs": [
        {
          "output_type": "execute_result",
          "data": {
            "text/plain": [
              "review_score                  1.000000\n",
              "product_photos_qty            0.022280\n",
              "average_product_value         0.014869\n",
              "product_description_lenght    0.013805\n",
              "price                        -0.000592\n",
              "total_order_value            -0.003569\n",
              "purchase_dayofweek           -0.009580\n",
              "product_name_lenght          -0.013109\n",
              "freight_value                -0.035872\n",
              "order_freight_ratio          -0.038214\n",
              "wd_estimated_delivery_time   -0.062350\n",
              "order_item_id                -0.140872\n",
              "wd_delivery_time_delta       -0.229488\n",
              "wd_actual_delivery_time      -0.307135\n",
              "is_late                      -0.356554\n",
              "Name: review_score, dtype: float64"
            ]
          },
          "metadata": {
            "tags": []
          },
          "execution_count": 355
        }
      ]
    },
    {
      "cell_type": "code",
      "metadata": {
        "id": "sp6mwx7n6TFe",
        "colab_type": "code",
        "colab": {
          "base_uri": "https://localhost:8080/",
          "height": 451
        },
        "outputId": "85ebd31e-59ff-45b6-a83b-81917f7120bf"
      },
      "source": [
        "feat_eng.info()"
      ],
      "execution_count": 356,
      "outputs": [
        {
          "output_type": "stream",
          "text": [
            "<class 'pandas.core.frame.DataFrame'>\n",
            "Int64Index: 87421 entries, 32719 to 56558\n",
            "Data columns (total 18 columns):\n",
            " #   Column                      Non-Null Count  Dtype  \n",
            "---  ------                      --------------  -----  \n",
            " 0   order_status                87421 non-null  object \n",
            " 1   price                       87421 non-null  float64\n",
            " 2   freight_value               87421 non-null  float64\n",
            " 3   order_item_id               87421 non-null  float64\n",
            " 4   customer_state              87421 non-null  object \n",
            " 5   product_category_name_eng   87421 non-null  object \n",
            " 6   product_name_lenght         87421 non-null  float64\n",
            " 7   product_description_lenght  87421 non-null  float64\n",
            " 8   product_photos_qty          87421 non-null  float64\n",
            " 9   review_score                87421 non-null  int64  \n",
            " 10  wd_estimated_delivery_time  87421 non-null  int64  \n",
            " 11  wd_actual_delivery_time     87421 non-null  int64  \n",
            " 12  wd_delivery_time_delta      87421 non-null  int64  \n",
            " 13  is_late                     87421 non-null  bool   \n",
            " 14  average_product_value       87421 non-null  float64\n",
            " 15  total_order_value           87421 non-null  float64\n",
            " 16  order_freight_ratio         87421 non-null  float64\n",
            " 17  purchase_dayofweek          87421 non-null  int64  \n",
            "dtypes: bool(1), float64(9), int64(5), object(3)\n",
            "memory usage: 12.1+ MB\n"
          ],
          "name": "stdout"
        }
      ]
    },
    {
      "cell_type": "markdown",
      "metadata": {
        "id": "NkPGkLnm9TBJ",
        "colab_type": "text"
      },
      "source": [
        "# Dealing with Categorical and Numerical Attributes"
      ]
    },
    {
      "cell_type": "code",
      "metadata": {
        "id": "PXC85AHgdZx4",
        "colab_type": "code",
        "colab": {
          "base_uri": "https://localhost:8080/",
          "height": 228
        },
        "outputId": "d0c0f756-4a80-4d8b-a494-696f00c636d8"
      },
      "source": [
        "pip install --upgrade category_encoders"
      ],
      "execution_count": 331,
      "outputs": [
        {
          "output_type": "stream",
          "text": [
            "Requirement already up-to-date: category_encoders in /usr/local/lib/python3.6/dist-packages (2.2.2)\n",
            "Requirement already satisfied, skipping upgrade: pandas>=0.21.1 in /usr/local/lib/python3.6/dist-packages (from category_encoders) (1.0.5)\n",
            "Requirement already satisfied, skipping upgrade: scikit-learn>=0.20.0 in /usr/local/lib/python3.6/dist-packages (from category_encoders) (0.22.2.post1)\n",
            "Requirement already satisfied, skipping upgrade: patsy>=0.5.1 in /usr/local/lib/python3.6/dist-packages (from category_encoders) (0.5.1)\n",
            "Requirement already satisfied, skipping upgrade: numpy>=1.14.0 in /usr/local/lib/python3.6/dist-packages (from category_encoders) (1.18.5)\n",
            "Requirement already satisfied, skipping upgrade: statsmodels>=0.9.0 in /usr/local/lib/python3.6/dist-packages (from category_encoders) (0.10.2)\n",
            "Requirement already satisfied, skipping upgrade: scipy>=1.0.0 in /usr/local/lib/python3.6/dist-packages (from category_encoders) (1.4.1)\n",
            "Requirement already satisfied, skipping upgrade: pytz>=2017.2 in /usr/local/lib/python3.6/dist-packages (from pandas>=0.21.1->category_encoders) (2018.9)\n",
            "Requirement already satisfied, skipping upgrade: python-dateutil>=2.6.1 in /usr/local/lib/python3.6/dist-packages (from pandas>=0.21.1->category_encoders) (2.8.1)\n",
            "Requirement already satisfied, skipping upgrade: joblib>=0.11 in /usr/local/lib/python3.6/dist-packages (from scikit-learn>=0.20.0->category_encoders) (0.16.0)\n",
            "Requirement already satisfied, skipping upgrade: six in /usr/local/lib/python3.6/dist-packages (from patsy>=0.5.1->category_encoders) (1.15.0)\n"
          ],
          "name": "stdout"
        }
      ]
    },
    {
      "cell_type": "code",
      "metadata": {
        "id": "NeDYzIje9Ryt",
        "colab_type": "code",
        "colab": {}
      },
      "source": [
        "# selecting the numerical and text attributes\n",
        "cat_attribs = ['order_status', 'customer_state', 'product_category_name_eng']\n",
        "num_attribs = orders_features.drop(cat_attribs, axis=1).columns"
      ],
      "execution_count": 362,
      "outputs": []
    },
    {
      "cell_type": "code",
      "metadata": {
        "id": "z_oSHGACcuCE",
        "colab_type": "code",
        "colab": {}
      },
      "source": [
        "import category_encoders as ce\n",
        "# create an object of the OneHotEncoder\n",
        "OHE = ce.OneHotEncoder(cols=cat_attribs,use_cat_names=True)\n",
        "# encode the categorical variables\n",
        "orders_features = OHE.fit_transform(orders_features)"
      ],
      "execution_count": 363,
      "outputs": []
    },
    {
      "cell_type": "code",
      "metadata": {
        "id": "Ggm301R19R_1",
        "colab_type": "code",
        "colab": {}
      },
      "source": [
        "class DataFrameSelector(BaseEstimator, TransformerMixin):\n",
        "    def __init__(self, attribute_names):\n",
        "        self.attribute_names = attribute_names\n",
        "    \n",
        "    def fit(self, X, y=None):\n",
        "        return self\n",
        "    \n",
        "    def transform(self, X, y=None):\n",
        "        return X[self.attribute_names]"
      ],
      "execution_count": 364,
      "outputs": []
    },
    {
      "cell_type": "code",
      "metadata": {
        "id": "NNqu5i0B9SLi",
        "colab_type": "code",
        "colab": {}
      },
      "source": [
        "from sklearn.pipeline import Pipeline\n",
        "from sklearn.preprocessing import StandardScaler\n",
        "\n",
        "# for now we wont work with categorical data. Planning to add it on next releases\n",
        "num_pipeline = Pipeline([('selector', DataFrameSelector(num_attribs)),\n",
        "                         ('attribs_adder', AttributesAdder()),\n",
        "                         ('std_scaller', StandardScaler())\n",
        "                        ])"
      ],
      "execution_count": 365,
      "outputs": []
    },
    {
      "cell_type": "code",
      "metadata": {
        "id": "xq2Cwio69SGi",
        "colab_type": "code",
        "colab": {
          "base_uri": "https://localhost:8080/",
          "height": 243
        },
        "outputId": "1cc42a94-a391-43ca-cffa-67ba6cfd4139"
      },
      "source": [
        "# lets see how the resulting data looks like\n",
        "orders_features_prepared = num_pipeline.fit_transform(orders_features)\n",
        "orders_features_prepared"
      ],
      "execution_count": 373,
      "outputs": [
        {
          "output_type": "execute_result",
          "data": {
            "text/plain": [
              "array([[-0.44131459, -0.11008851, -0.27982497, ..., -0.43407026,\n",
              "         0.40466955,  0.63861471],\n",
              "       [-0.53735833, -0.30902296, -0.27982497, ..., -0.54316711,\n",
              "         1.03639195, -1.39637208],\n",
              "       [-0.27572195,  0.30176298, -0.27982497, ..., -0.24021478,\n",
              "         0.09978501, -1.39637208],\n",
              "       ...,\n",
              "       [-0.44081781, -0.39736764, -0.27982497, ..., -0.45761137,\n",
              "         0.0683217 ,  0.63861471],\n",
              "       [-0.17029463, -0.40181666, -0.27982497, ..., -0.19754319,\n",
              "        -0.49073367,  1.6561081 ],\n",
              "       [ 0.33145109,  0.16511473, -0.27982497, ...,  0.33290236,\n",
              "        -0.57287814, -1.39637208]])"
            ]
          },
          "metadata": {
            "tags": []
          },
          "execution_count": 373
        }
      ]
    },
    {
      "cell_type": "code",
      "metadata": {
        "id": "8UPyZp1A-I12",
        "colab_type": "code",
        "colab": {
          "base_uri": "https://localhost:8080/",
          "height": 35
        },
        "outputId": "03831090-aaf4-4e4d-a29d-3f4ab6fb7168"
      },
      "source": [
        "from sklearn.linear_model import LinearRegression\n",
        "\n",
        "lin_reg = LinearRegression()\n",
        "lin_reg.fit(orders_features_prepared, orders_labels)"
      ],
      "execution_count": 367,
      "outputs": [
        {
          "output_type": "execute_result",
          "data": {
            "text/plain": [
              "LinearRegression(copy_X=True, fit_intercept=True, n_jobs=None, normalize=False)"
            ]
          },
          "metadata": {
            "tags": []
          },
          "execution_count": 367
        }
      ]
    },
    {
      "cell_type": "code",
      "metadata": {
        "id": "L5xhIT33-Iw7",
        "colab_type": "code",
        "colab": {}
      },
      "source": [
        "some_data = orders_features.iloc[:8]\n",
        "some_labels = orders_labels.iloc[:8]\n",
        "some_data_prepared = num_pipeline.transform(some_data)"
      ],
      "execution_count": 368,
      "outputs": []
    },
    {
      "cell_type": "code",
      "metadata": {
        "id": "wkNB4VkE-Iqe",
        "colab_type": "code",
        "colab": {
          "base_uri": "https://localhost:8080/",
          "height": 72
        },
        "outputId": "9e9f6c29-0e76-4fbc-bba9-1c4bd989e610"
      },
      "source": [
        "print('Predicted: {} \\n Labels: {}'.format(list(lin_reg.predict(some_data_prepared)), list(some_labels.values)))"
      ],
      "execution_count": 369,
      "outputs": [
        {
          "output_type": "stream",
          "text": [
            "Predicted: [4.200990438393185, 4.164893735056262, 4.220587093283143, 4.35703562563107, 4.278321832870888, 4.35741398908125, 2.1552175818279866, 4.170959230377667] \n",
            " Labels: [4, 5, 5, 4, 4, 5, 5, 5]\n"
          ],
          "name": "stdout"
        }
      ]
    },
    {
      "cell_type": "code",
      "metadata": {
        "id": "5VCY1BVb9SEK",
        "colab_type": "code",
        "colab": {
          "base_uri": "https://localhost:8080/",
          "height": 35
        },
        "outputId": "039f304d-07dd-4683-876d-3d1655d4cd06"
      },
      "source": [
        "from sklearn.metrics import mean_squared_error\n",
        "\n",
        "predictions = lin_reg.predict(orders_features_prepared)\n",
        "lin_mse = mean_squared_error(orders_labels, predictions)\n",
        "lin_rmse = np.sqrt(lin_mse)\n",
        "lin_rmse"
      ],
      "execution_count": 370,
      "outputs": [
        {
          "output_type": "execute_result",
          "data": {
            "text/plain": [
              "1.2409979983355306"
            ]
          },
          "metadata": {
            "tags": []
          },
          "execution_count": 370
        }
      ]
    },
    {
      "cell_type": "code",
      "metadata": {
        "id": "GsXUnaI8D6_f",
        "colab_type": "code",
        "colab": {
          "base_uri": "https://localhost:8080/",
          "height": 35
        },
        "outputId": "2f4f46cf-f1b8-49c7-f091-ab105fb641d9"
      },
      "source": [
        "from sklearn.ensemble import RandomForestRegressor\n",
        "\n",
        "forest_reg = RandomForestRegressor()\n",
        "forest_reg.fit(orders_features_prepared, orders_labels)\n",
        "\n",
        "predictions = forest_reg.predict(orders_features_prepared)\n",
        "forest_mse = mean_squared_error(orders_labels, predictions)\n",
        "forest_rmse = np.sqrt(forest_mse)\n",
        "forest_rmse"
      ],
      "execution_count": 371,
      "outputs": [
        {
          "output_type": "execute_result",
          "data": {
            "text/plain": [
              "0.4621176525516894"
            ]
          },
          "metadata": {
            "tags": []
          },
          "execution_count": 371
        }
      ]
    },
    {
      "cell_type": "code",
      "metadata": {
        "id": "-svHyjYeD_6D",
        "colab_type": "code",
        "colab": {
          "base_uri": "https://localhost:8080/",
          "height": 52
        },
        "outputId": "cbb8cff2-fcb6-439c-c293-e63df6562d04"
      },
      "source": [
        "print('Predicted: {} \\n Labels: {}'.format(list(forest_reg.predict(some_data_prepared)), list(some_labels.values)))"
      ],
      "execution_count": 372,
      "outputs": [
        {
          "output_type": "stream",
          "text": [
            "Predicted: [4.09, 4.68, 4.33, 4.2, 4.12, 4.79, 4.65, 4.85] \n",
            " Labels: [4, 5, 5, 4, 4, 5, 5, 5]\n"
          ],
          "name": "stdout"
        }
      ]
    },
    {
      "cell_type": "markdown",
      "metadata": {
        "id": "fYWgSR3icCYF",
        "colab_type": "text"
      },
      "source": [
        "Note: Nan values dropped for now but can be imputed. Categorical values changed to one hot encoded. Classification instead of regression starting from logistic regression then others.\n",
        "Using cross validation set later and grid search. Ending with pipeline to predict."
      ]
    },
    {
      "cell_type": "code",
      "metadata": {
        "id": "n_uxJdBmEEKq",
        "colab_type": "code",
        "colab": {}
      },
      "source": [
        ""
      ],
      "execution_count": null,
      "outputs": []
    }
  ]
}